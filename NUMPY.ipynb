{
 "cells": [
  {
   "cell_type": "markdown",
   "id": "bfff5b40-5f0d-48b7-8bc1-2dff6582756e",
   "metadata": {},
   "source": [
    "## Exercices sur la Bibliothèque Numpy"
   ]
  },
  {
   "cell_type": "code",
   "execution_count": 77,
   "id": "d57e7503-eb56-4b76-850a-e1e0aaaa62e8",
   "metadata": {},
   "outputs": [],
   "source": [
    "#importation des bibliothèques\n",
    "import pandas as pd\n",
    "import numpy as np"
   ]
  },
  {
   "cell_type": "code",
   "execution_count": 79,
   "id": "1b7bfe55-7d08-4a65-aff3-7b8903c45e2a",
   "metadata": {},
   "outputs": [],
   "source": [
    "#importatin du dataset\n",
    "df=pd.read_csv('DEKHO.csv')"
   ]
  },
  {
   "cell_type": "code",
   "execution_count": 81,
   "id": "3d11b739-0b64-494a-b773-eb5ce517d915",
   "metadata": {},
   "outputs": [
    {
     "data": {
      "text/html": [
       "<div>\n",
       "<style scoped>\n",
       "    .dataframe tbody tr th:only-of-type {\n",
       "        vertical-align: middle;\n",
       "    }\n",
       "\n",
       "    .dataframe tbody tr th {\n",
       "        vertical-align: top;\n",
       "    }\n",
       "\n",
       "    .dataframe thead th {\n",
       "        text-align: right;\n",
       "    }\n",
       "</style>\n",
       "<table border=\"1\" class=\"dataframe\">\n",
       "  <thead>\n",
       "    <tr style=\"text-align: right;\">\n",
       "      <th></th>\n",
       "      <th>name</th>\n",
       "      <th>year</th>\n",
       "      <th>selling_price</th>\n",
       "      <th>km_driven</th>\n",
       "      <th>fuel</th>\n",
       "      <th>seller_type</th>\n",
       "      <th>transmission</th>\n",
       "      <th>owner</th>\n",
       "    </tr>\n",
       "  </thead>\n",
       "  <tbody>\n",
       "    <tr>\n",
       "      <th>0</th>\n",
       "      <td>Maruti 800 AC</td>\n",
       "      <td>2007</td>\n",
       "      <td>60000</td>\n",
       "      <td>70000</td>\n",
       "      <td>Petrol</td>\n",
       "      <td>Individual</td>\n",
       "      <td>Manual</td>\n",
       "      <td>First Owner</td>\n",
       "    </tr>\n",
       "    <tr>\n",
       "      <th>1</th>\n",
       "      <td>Maruti Wagon R LXI Minor</td>\n",
       "      <td>2007</td>\n",
       "      <td>135000</td>\n",
       "      <td>50000</td>\n",
       "      <td>Petrol</td>\n",
       "      <td>Individual</td>\n",
       "      <td>Manual</td>\n",
       "      <td>First Owner</td>\n",
       "    </tr>\n",
       "    <tr>\n",
       "      <th>2</th>\n",
       "      <td>Hyundai Verna 1.6 SX</td>\n",
       "      <td>2012</td>\n",
       "      <td>600000</td>\n",
       "      <td>100000</td>\n",
       "      <td>Diesel</td>\n",
       "      <td>Individual</td>\n",
       "      <td>Manual</td>\n",
       "      <td>First Owner</td>\n",
       "    </tr>\n",
       "    <tr>\n",
       "      <th>3</th>\n",
       "      <td>Datsun RediGO T Option</td>\n",
       "      <td>2017</td>\n",
       "      <td>250000</td>\n",
       "      <td>46000</td>\n",
       "      <td>Petrol</td>\n",
       "      <td>Individual</td>\n",
       "      <td>Manual</td>\n",
       "      <td>First Owner</td>\n",
       "    </tr>\n",
       "    <tr>\n",
       "      <th>4</th>\n",
       "      <td>Honda Amaze VX i-DTEC</td>\n",
       "      <td>2014</td>\n",
       "      <td>450000</td>\n",
       "      <td>141000</td>\n",
       "      <td>Diesel</td>\n",
       "      <td>Individual</td>\n",
       "      <td>Manual</td>\n",
       "      <td>Second Owner</td>\n",
       "    </tr>\n",
       "    <tr>\n",
       "      <th>...</th>\n",
       "      <td>...</td>\n",
       "      <td>...</td>\n",
       "      <td>...</td>\n",
       "      <td>...</td>\n",
       "      <td>...</td>\n",
       "      <td>...</td>\n",
       "      <td>...</td>\n",
       "      <td>...</td>\n",
       "    </tr>\n",
       "    <tr>\n",
       "      <th>4335</th>\n",
       "      <td>Hyundai i20 Magna 1.4 CRDi (Diesel)</td>\n",
       "      <td>2014</td>\n",
       "      <td>409999</td>\n",
       "      <td>80000</td>\n",
       "      <td>Diesel</td>\n",
       "      <td>Individual</td>\n",
       "      <td>Manual</td>\n",
       "      <td>Second Owner</td>\n",
       "    </tr>\n",
       "    <tr>\n",
       "      <th>4336</th>\n",
       "      <td>Hyundai i20 Magna 1.4 CRDi</td>\n",
       "      <td>2014</td>\n",
       "      <td>409999</td>\n",
       "      <td>80000</td>\n",
       "      <td>Diesel</td>\n",
       "      <td>Individual</td>\n",
       "      <td>Manual</td>\n",
       "      <td>Second Owner</td>\n",
       "    </tr>\n",
       "    <tr>\n",
       "      <th>4337</th>\n",
       "      <td>Maruti 800 AC BSIII</td>\n",
       "      <td>2009</td>\n",
       "      <td>110000</td>\n",
       "      <td>83000</td>\n",
       "      <td>Petrol</td>\n",
       "      <td>Individual</td>\n",
       "      <td>Manual</td>\n",
       "      <td>Second Owner</td>\n",
       "    </tr>\n",
       "    <tr>\n",
       "      <th>4338</th>\n",
       "      <td>Hyundai Creta 1.6 CRDi SX Option</td>\n",
       "      <td>2016</td>\n",
       "      <td>865000</td>\n",
       "      <td>90000</td>\n",
       "      <td>Diesel</td>\n",
       "      <td>Individual</td>\n",
       "      <td>Manual</td>\n",
       "      <td>First Owner</td>\n",
       "    </tr>\n",
       "    <tr>\n",
       "      <th>4339</th>\n",
       "      <td>Renault KWID RXT</td>\n",
       "      <td>2016</td>\n",
       "      <td>225000</td>\n",
       "      <td>40000</td>\n",
       "      <td>Petrol</td>\n",
       "      <td>Individual</td>\n",
       "      <td>Manual</td>\n",
       "      <td>First Owner</td>\n",
       "    </tr>\n",
       "  </tbody>\n",
       "</table>\n",
       "<p>4340 rows × 8 columns</p>\n",
       "</div>"
      ],
      "text/plain": [
       "                                     name  year  selling_price  km_driven  \\\n",
       "0                           Maruti 800 AC  2007          60000      70000   \n",
       "1                Maruti Wagon R LXI Minor  2007         135000      50000   \n",
       "2                    Hyundai Verna 1.6 SX  2012         600000     100000   \n",
       "3                  Datsun RediGO T Option  2017         250000      46000   \n",
       "4                   Honda Amaze VX i-DTEC  2014         450000     141000   \n",
       "...                                   ...   ...            ...        ...   \n",
       "4335  Hyundai i20 Magna 1.4 CRDi (Diesel)  2014         409999      80000   \n",
       "4336           Hyundai i20 Magna 1.4 CRDi  2014         409999      80000   \n",
       "4337                  Maruti 800 AC BSIII  2009         110000      83000   \n",
       "4338     Hyundai Creta 1.6 CRDi SX Option  2016         865000      90000   \n",
       "4339                     Renault KWID RXT  2016         225000      40000   \n",
       "\n",
       "        fuel seller_type transmission         owner  \n",
       "0     Petrol  Individual       Manual   First Owner  \n",
       "1     Petrol  Individual       Manual   First Owner  \n",
       "2     Diesel  Individual       Manual   First Owner  \n",
       "3     Petrol  Individual       Manual   First Owner  \n",
       "4     Diesel  Individual       Manual  Second Owner  \n",
       "...      ...         ...          ...           ...  \n",
       "4335  Diesel  Individual       Manual  Second Owner  \n",
       "4336  Diesel  Individual       Manual  Second Owner  \n",
       "4337  Petrol  Individual       Manual  Second Owner  \n",
       "4338  Diesel  Individual       Manual   First Owner  \n",
       "4339  Petrol  Individual       Manual   First Owner  \n",
       "\n",
       "[4340 rows x 8 columns]"
      ]
     },
     "execution_count": 81,
     "metadata": {},
     "output_type": "execute_result"
    }
   ],
   "source": [
    "#affichage du contenu du dataset\n",
    "df"
   ]
  },
  {
   "cell_type": "markdown",
   "id": "b608ae6a-d8a9-4728-9079-a93ca55f9df0",
   "metadata": {},
   "source": [
    "## Une petite exploration de notre dataset"
   ]
  },
  {
   "cell_type": "code",
   "execution_count": 84,
   "id": "7a3d6304-06c2-4a44-a604-43fbede8adeb",
   "metadata": {},
   "outputs": [
    {
     "data": {
      "text/plain": [
       "Index(['name', 'year', 'selling_price', 'km_driven', 'fuel', 'seller_type',\n",
       "       'transmission', 'owner'],\n",
       "      dtype='object')"
      ]
     },
     "execution_count": 84,
     "metadata": {},
     "output_type": "execute_result"
    }
   ],
   "source": [
    "#affichage des colonnes du dataset\n",
    "df.columns"
   ]
  },
  {
   "cell_type": "code",
   "execution_count": 86,
   "id": "b5ebc3d5-3b38-43fc-a88d-d5569b931187",
   "metadata": {},
   "outputs": [
    {
     "data": {
      "text/plain": [
       "name             0\n",
       "year             0\n",
       "selling_price    0\n",
       "km_driven        0\n",
       "fuel             0\n",
       "seller_type      0\n",
       "transmission     0\n",
       "owner            0\n",
       "dtype: int64"
      ]
     },
     "execution_count": 86,
     "metadata": {},
     "output_type": "execute_result"
    }
   ],
   "source": [
    "#verfier s'il n'ya pas de données manquantes\n",
    "df.isnull().sum()"
   ]
  },
  {
   "cell_type": "code",
   "execution_count": 88,
   "id": "555f0c39-048f-4fc4-9fef-1e04f6802434",
   "metadata": {},
   "outputs": [
    {
     "data": {
      "text/plain": [
       "name             object\n",
       "year              int64\n",
       "selling_price     int64\n",
       "km_driven         int64\n",
       "fuel             object\n",
       "seller_type      object\n",
       "transmission     object\n",
       "owner            object\n",
       "dtype: object"
      ]
     },
     "execution_count": 88,
     "metadata": {},
     "output_type": "execute_result"
    }
   ],
   "source": [
    "#afficher les type des variables(colonnes)\n",
    "df.dtypes"
   ]
  },
  {
   "cell_type": "markdown",
   "id": "111a7a21-b63a-4192-9abc-b1c63e47f2d4",
   "metadata": {},
   "source": [
    "## Exercices pratiques"
   ]
  },
  {
   "cell_type": "code",
   "execution_count": 91,
   "id": "b90d7261-f441-4c96-8620-edc6b25d977c",
   "metadata": {},
   "outputs": [],
   "source": [
    "#Exo1 Extrait et convertis la colonne ' selling_price ' en tableau numpy\n",
    "prix=df['selling_price'].to_numpy()"
   ]
  },
  {
   "cell_type": "code",
   "execution_count": 93,
   "id": "ce8fb3cb-d036-4b94-a55d-3a66af4ca353",
   "metadata": {},
   "outputs": [
    {
     "name": "stdout",
     "output_type": "stream",
     "text": [
      "\n",
      "[2] Statistiques sur les prix :\n",
      "Moyenne : 504,127.31\n",
      "Médiane : 350,000.00\n",
      "Max : 8,900,000\n",
      "Min : 20,000\n"
     ]
    }
   ],
   "source": [
    "# Exercice 2 : Faites une  Statistique de base sur la colonne prix transformée en tableau numpy\n",
    "print(\"\\n[2] Statistiques sur les prix :\")\n",
    "print(f\"Moyenne : {np.mean(prix):,.2f}\")\n",
    "print(f\"Médiane : {np.median(prix):,.2f}\")\n",
    "print(f\"Max : {np.max(prix):,}\")\n",
    "print(f\"Min : {np.min(prix):,}\")"
   ]
  },
  {
   "cell_type": "code",
   "execution_count": 95,
   "id": "939cb303-7982-45c1-9366-9d2a7e1520e3",
   "metadata": {},
   "outputs": [
    {
     "name": "stdout",
     "output_type": "stream",
     "text": [
      "\n",
      "[3] 5 voitures les plus anciennes :\n",
      "                          name  year\n",
      "3334        Maruti 800 AC BSII  1992\n",
      "631   Maruti Gypsy E MG410W ST  1995\n",
      "2972      Mahindra Jeep MM 540  1996\n",
      "61    Mahindra Jeep CL 500 MDI  1996\n",
      "1669  Mahindra Jeep CL 500 MDI  1997\n"
     ]
    }
   ],
   "source": [
    "# Exercice 3 :Afficher le nom et l'année des 5 voitures les plus anciennes\n",
    "annees = df['year'].to_numpy()\n",
    "indices_anciennes = np.argsort(annees)[:5]\n",
    "print(\"\\n[3] 5 voitures les plus anciennes :\")\n",
    "print(df.iloc[indices_anciennes][['name', 'year']])"
   ]
  },
  {
   "cell_type": "code",
   "execution_count": 97,
   "id": "65206f7c-731a-43ca-be87-11804b21f96e",
   "metadata": {},
   "outputs": [
    {
     "name": "stdout",
     "output_type": "stream",
     "text": [
      "\n",
      "[4] Nombre de voitures >10 ans : 2487\n"
     ]
    }
   ],
   "source": [
    "# Exercice 4 : Afficher le nombre de Voitures de plus de 10 ans\n",
    "voitures_anciennes = df[np.array(2025 - df['year'].to_numpy()) > 10]\n",
    "print(f\"\\n[4] Nombre de voitures >10 ans : {len(voitures_anciennes)}\")"
   ]
  },
  {
   "cell_type": "code",
   "execution_count": 99,
   "id": "acd2ce17-ee01-41f8-8261-d9f98799e06a",
   "metadata": {},
   "outputs": [
    {
     "name": "stdout",
     "output_type": "stream",
     "text": [
      "\n",
      "[5] Kilométrage moyen par type de carburant :\n",
      "Petrol : 52,340 km\n",
      "Diesel : 79,631 km\n",
      "CNG : 67,235 km\n",
      "LPG : 89,635 km\n",
      "Electric : 62,000 km\n"
     ]
    }
   ],
   "source": [
    "# Exercice 5 : Afficher le Kilométrage moyen par type de carburant\n",
    "print(\"\\n[5] Kilométrage moyen par type de carburant :\")\n",
    "for carburant in df['fuel'].unique():\n",
    "    moyenne = df[df['fuel'] == carburant]['km_driven'].mean()\n",
    "    print(f\"{carburant} : {moyenne:,.0f} km\")"
   ]
  },
  {
   "cell_type": "code",
   "execution_count": 101,
   "id": "219aa9d4-6978-4f96-a81a-9f9ea659a3ce",
   "metadata": {},
   "outputs": [
    {
     "name": "stdout",
     "output_type": "stream",
     "text": [
      "\n",
      "[6] Nombre de voitures avec km < 1er quartile (35,000 km): 1064\n"
     ]
    }
   ],
   "source": [
    "# Exercice 6 :quel est le nombre de voitures avec faible kilométrage au 1er quartile c'est à dire les valeurs au dessous de 25%\n",
    "km = df['km_driven'].to_numpy()\n",
    "seuil_quartile = np.percentile(km, 25)\n",
    "faible_km = df[km < seuil_quartile]\n",
    "print(f\"\\n[6] Nombre de voitures avec km < 1er quartile ({seuil_quartile:,.0f} km): {len(faible_km)}\")"
   ]
  },
  {
   "cell_type": "code",
   "execution_count": 103,
   "id": "335aed3e-d72c-4b13-9360-fb5c141359a8",
   "metadata": {},
   "outputs": [
    {
     "name": "stdout",
     "output_type": "stream",
     "text": [
      "\n",
      "[7] Prix normalisés (Min-Max) - premiers exemples :\n",
      "[0.0045045  0.01295045 0.06531532 0.0259009  0.04842342]\n"
     ]
    }
   ],
   "source": [
    "# Exercice 7 :Faites la normalisation des prix\n",
    "prix_norm = (prix - np.min(prix)) / (np.max(prix) - np.min(prix))\n",
    "print(\"\\n[7] Prix normalisés (Min-Max) - premiers exemples :\")\n",
    "print(prix_norm[:5])"
   ]
  },
  {
   "cell_type": "code",
   "execution_count": 105,
   "id": "fdc8e344-69c3-4d6d-9aa9-37da18074d97",
   "metadata": {},
   "outputs": [
    {
     "name": "stdout",
     "output_type": "stream",
     "text": [
      "\n",
      "[8] Nombre de voitures par année :\n",
      "1992 : 1\n",
      "1995 : 1\n",
      "1996 : 2\n",
      "1997 : 3\n",
      "1998 : 12\n",
      "1999 : 10\n",
      "2000 : 12\n",
      "2001 : 20\n",
      "2002 : 21\n",
      "2003 : 23\n",
      "2004 : 42\n",
      "2005 : 85\n",
      "2006 : 110\n",
      "2007 : 134\n",
      "2008 : 145\n",
      "2009 : 193\n",
      "2010 : 234\n",
      "2011 : 271\n",
      "2012 : 415\n",
      "2013 : 386\n",
      "2014 : 367\n",
      "2015 : 421\n",
      "2016 : 357\n",
      "2017 : 466\n",
      "2018 : 366\n",
      "2019 : 195\n",
      "2020 : 48\n"
     ]
    }
   ],
   "source": [
    "# Exercice 8 : Quel est le nombre de voiture par année\n",
    "valeurs, comptes = np.unique(annees, return_counts=True)\n",
    "print(\"\\n[8] Nombre de voitures par année :\")\n",
    "for annee, nb in zip(valeurs, comptes):\n",
    "    print(f\"{annee} : {nb}\")"
   ]
  },
  {
   "cell_type": "code",
   "execution_count": 107,
   "id": "60dcfd20-ae24-4629-a0a1-a7bff3ef5424",
   "metadata": {},
   "outputs": [
    {
     "name": "stdout",
     "output_type": "stream",
     "text": [
      "\n",
      "[9] Z-score du km_driven - premiers exemples :\n",
      "[ 0.08113906 -0.3476891   0.7243813  -0.43345473  1.60347903]\n"
     ]
    }
   ],
   "source": [
    "# Exercice 9 :faites le Z-score sur le kilométrage\n",
    "km_moy = np.mean(km)\n",
    "km_std = np.std(km)\n",
    "z_scores = (km - km_moy) / km_std\n",
    "print(\"\\n[9] Z-score du km_driven - premiers exemples :\")\n",
    "print(z_scores[:5])"
   ]
  },
  {
   "cell_type": "code",
   "execution_count": 109,
   "id": "3162f131-eec8-4a67-b8d1-0d79e84f35c9",
   "metadata": {},
   "outputs": [
    {
     "name": "stdout",
     "output_type": "stream",
     "text": [
      "\n",
      "[10] Prix moyen pondéré par ancienneté : 584,055.38\n"
     ]
    }
   ],
   "source": [
    "# Exercice 10 :quelle est la Moyenne pondérée des prix par ancienneté (poids = 1 / âge)\n",
    "poids_inverse = 1 / (2025 - df['year'] + 1)\n",
    "prix_pondere = np.average(prix, weights=poids_inverse)\n",
    "print(f\"\\n[10] Prix moyen pondéré par ancienneté : {prix_pondere:,.2f}\")"
   ]
  },
  {
   "cell_type": "code",
   "execution_count": null,
   "id": "61c07bdd-cf46-4773-84e3-28544f0c4a4d",
   "metadata": {},
   "outputs": [],
   "source": []
  }
 ],
 "metadata": {
  "kernelspec": {
   "display_name": "Python [conda env:base] *",
   "language": "python",
   "name": "conda-base-py"
  },
  "language_info": {
   "codemirror_mode": {
    "name": "ipython",
    "version": 3
   },
   "file_extension": ".py",
   "mimetype": "text/x-python",
   "name": "python",
   "nbconvert_exporter": "python",
   "pygments_lexer": "ipython3",
   "version": "3.12.3"
  }
 },
 "nbformat": 4,
 "nbformat_minor": 5
}
